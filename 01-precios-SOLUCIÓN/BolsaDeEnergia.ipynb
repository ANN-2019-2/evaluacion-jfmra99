{
  "nbformat": 4,
  "nbformat_minor": 0,
  "metadata": {
    "colab": {
      "name": "BolsaDeEnergia.ipynb",
      "provenance": [],
      "collapsed_sections": []
    },
    "kernelspec": {
      "name": "python3",
      "display_name": "Python 3"
    }
  },
  "cells": [
    {
      "cell_type": "markdown",
      "metadata": {
        "id": "NVzflrzOBPlK",
        "colab_type": "text"
      },
      "source": [
        "#  Pronóstico de la bolsa de energía en Colombia utilizando Adalines\n"
      ]
    },
    {
      "cell_type": "markdown",
      "metadata": {
        "id": "jI9s6pgLSVSr",
        "colab_type": "text"
      },
      "source": [
        "## Introducción\n",
        "En el presente trabajo se realiza el ajuste de un modelo a los datos correspondientes a los precios históricos de la electricidad, entre julio de 1995 y mayo del 2018; extraídos de la Bolsa de Energía de Colombia.\n",
        "\n",
        "El propósito de esto es obtener pronósticos para el precio promedio diario de la electricidad para los próximos siete días y determinar el modelo más adecuado.   "
      ]
    },
    {
      "cell_type": "markdown",
      "metadata": {
        "id": "waPbwGovSgW2",
        "colab_type": "text"
      },
      "source": [
        "## Lectura de datos"
      ]
    },
    {
      "cell_type": "code",
      "metadata": {
        "id": "4tB0r4rXFN2H",
        "colab_type": "code",
        "colab": {}
      },
      "source": [
        "## Carga de librerias\n",
        "import pandas as pd\n",
        "import numpy as np\n",
        "import matplotlib.pyplot as plt"
      ],
      "execution_count": 0,
      "outputs": []
    },
    {
      "cell_type": "code",
      "metadata": {
        "id": "mSCdukztFN5D",
        "colab_type": "code",
        "colab": {}
      },
      "source": [
        "## List of years to read \n",
        "first_year = 1995; last_year = 2019\n",
        "years = list(map(str, list((range(first_year, last_year)))))\n",
        "\n",
        "## Data had differente extensions for the last 3 dataframes\n",
        "exts = (list(np.repeat(\".xlsx\",21))+\n",
        "        list(np.repeat(\".xls\",3)))\n",
        "       \n",
        "## Urls of dataframes\n",
        "urls = [\"https://github.com/ANN-2019-2/evaluacion-jfmra99/raw/master/datos/precios/Precio_Bolsa_Nacional_(%24kwh)_\"\n",
        " + year + ext for year, ext in zip(years, exts)]\n",
        "\n",
        "## Read a df\n",
        "def xslx_reader(path, skip_rows):\n",
        "  d = pd.read_excel(io= path, \n",
        "                    header = 0, #Header position after skipping rows\n",
        "                    skiprows= skip_rows, ## data.frames start in row 2 or 3\n",
        "                    usecols = \"A:Y\", # Just don't read thinks beyoung bounds\n",
        "                    dtype= {\"Fecha\" : np.datetime64}\n",
        "\n",
        "                    )\n",
        "  return d\n",
        "\n",
        "## Df donde guardar las 24 bases\n",
        "df = pd.DataFrame(\n",
        "    columns=[\"Fecha\", \"0\", \"1\", \"2\", \"3\", \"4\", \"5\", \"6\", \"7\", \"8\", \"9\", \"10\", \n",
        "             \"11\", \"12\", \"13\", \"14\", \"15\", \"16\", \"17\", \"18\", \"19\", \"20\", \n",
        "             \"21\", \"22\", \"23\"]\n",
        "    )\n",
        "sizes = []\n",
        "#Frame = Frame.append(pandas.DataFrame(data = SomeNewLineOfData), ignore_index=True)\n",
        "for i in range(0, 24):\n",
        "\n",
        "  if(i<5):\n",
        "    nrow = 3 # first 5 dfs start in row 3\n",
        "  else:\n",
        "    nrow=2 # the others start in row 2\n",
        "\n",
        "  df_temp = xslx_reader(urls[i], skip_rows=nrow)\n",
        "\n",
        "  if(i!=0 and i!=18):## First day of 1995 is a NA. And there are NAs within 2013\n",
        "    df_temp = df_temp.dropna() \n",
        "  elif(i==18): #the last two rows are Completely Nas, but there are other NAs\n",
        "    df_temp = df_temp[df_temp.Fecha.notnull()] \n",
        "\n",
        "  df_temp = df_temp.drop_duplicates() ## There are several dupplicates among df 16-18\n",
        "  sizes = [sizes, df_temp.shape[0]]\n",
        "  df = df.append(df_temp, ignore_index=True) ## we bind the dfs together.\n",
        "\n",
        "        "
      ],
      "execution_count": 0,
      "outputs": []
    },
    {
      "cell_type": "markdown",
      "metadata": {
        "id": "wyyJAMfaCy64",
        "colab_type": "text"
      },
      "source": [
        "Se realiza un chequeo rápido de si nuestro conjunto de datos ha sido cargado correctamente, para ello calculamos el número de días transcurridos desde la fecha inicial 20/07/1995 hasta la fecha final 05/05/2018, y verificamos que sea equivalente al número de filas de nuestro conjunto de dajos"
      ]
    },
    {
      "cell_type": "code",
      "metadata": {
        "id": "HT72w7C3DNSO",
        "colab_type": "code",
        "outputId": "4094dc67-285b-45f1-bdcc-8578f4ec827d",
        "colab": {
          "base_uri": "https://localhost:8080/",
          "height": 33
        }
      },
      "source": [
        "from datetime import date\n",
        "f_date = date(1995, 7, 19) \n",
        "l_date = date(2018, 5, 5)\n",
        "delta = l_date - f_date # Last_day - first_day + 1\n",
        "print(delta.days - df.shape[0])"
      ],
      "execution_count": 3,
      "outputs": [
        {
          "output_type": "stream",
          "text": [
            "0\n"
          ],
          "name": "stdout"
        }
      ]
    },
    {
      "cell_type": "markdown",
      "metadata": {
        "id": "7Np96cLYD314",
        "colab_type": "text"
      },
      "source": [
        "Aparentemente nuestro conjunto de datos fue filtrado correctamente, ahora procedemos a calcular un estimador del precio de la bolsa de energía durante el día, en este caso utilizaremos la media de las 24 horas."
      ]
    },
    {
      "cell_type": "code",
      "metadata": {
        "id": "ZcUGEWVyFOC1",
        "colab_type": "code",
        "outputId": "4ee0c550-da0f-4286-ceea-07ef00265bbc",
        "colab": {
          "base_uri": "https://localhost:8080/",
          "height": 404
        }
      },
      "source": [
        "df['Precio_prom'] = (df.loc[:, df.columns != 'Fecha']).mean(axis=1, skipna=True) # Media del precio en el día, ignora los na\n",
        "ts_df = (df[['Fecha', 'Precio_prom']])\n",
        "ts_df"
      ],
      "execution_count": 4,
      "outputs": [
        {
          "output_type": "execute_result",
          "data": {
            "text/html": [
              "<div>\n",
              "<style scoped>\n",
              "    .dataframe tbody tr th:only-of-type {\n",
              "        vertical-align: middle;\n",
              "    }\n",
              "\n",
              "    .dataframe tbody tr th {\n",
              "        vertical-align: top;\n",
              "    }\n",
              "\n",
              "    .dataframe thead th {\n",
              "        text-align: right;\n",
              "    }\n",
              "</style>\n",
              "<table border=\"1\" class=\"dataframe\">\n",
              "  <thead>\n",
              "    <tr style=\"text-align: right;\">\n",
              "      <th></th>\n",
              "      <th>Fecha</th>\n",
              "      <th>Precio_prom</th>\n",
              "    </tr>\n",
              "  </thead>\n",
              "  <tbody>\n",
              "    <tr>\n",
              "      <th>0</th>\n",
              "      <td>1995-07-20</td>\n",
              "      <td>1.409435</td>\n",
              "    </tr>\n",
              "    <tr>\n",
              "      <th>1</th>\n",
              "      <td>1995-07-21</td>\n",
              "      <td>4.924333</td>\n",
              "    </tr>\n",
              "    <tr>\n",
              "      <th>2</th>\n",
              "      <td>1995-07-22</td>\n",
              "      <td>1.269500</td>\n",
              "    </tr>\n",
              "    <tr>\n",
              "      <th>3</th>\n",
              "      <td>1995-07-23</td>\n",
              "      <td>0.953083</td>\n",
              "    </tr>\n",
              "    <tr>\n",
              "      <th>4</th>\n",
              "      <td>1995-07-24</td>\n",
              "      <td>4.305917</td>\n",
              "    </tr>\n",
              "    <tr>\n",
              "      <th>...</th>\n",
              "      <td>...</td>\n",
              "      <td>...</td>\n",
              "    </tr>\n",
              "    <tr>\n",
              "      <th>8321</th>\n",
              "      <td>2018-05-01</td>\n",
              "      <td>71.666726</td>\n",
              "    </tr>\n",
              "    <tr>\n",
              "      <th>8322</th>\n",
              "      <td>2018-05-02</td>\n",
              "      <td>76.374441</td>\n",
              "    </tr>\n",
              "    <tr>\n",
              "      <th>8323</th>\n",
              "      <td>2018-05-03</td>\n",
              "      <td>71.148348</td>\n",
              "    </tr>\n",
              "    <tr>\n",
              "      <th>8324</th>\n",
              "      <td>2018-05-04</td>\n",
              "      <td>64.710120</td>\n",
              "    </tr>\n",
              "    <tr>\n",
              "      <th>8325</th>\n",
              "      <td>2018-05-05</td>\n",
              "      <td>73.972085</td>\n",
              "    </tr>\n",
              "  </tbody>\n",
              "</table>\n",
              "<p>8326 rows × 2 columns</p>\n",
              "</div>"
            ],
            "text/plain": [
              "          Fecha  Precio_prom\n",
              "0    1995-07-20     1.409435\n",
              "1    1995-07-21     4.924333\n",
              "2    1995-07-22     1.269500\n",
              "3    1995-07-23     0.953083\n",
              "4    1995-07-24     4.305917\n",
              "...         ...          ...\n",
              "8321 2018-05-01    71.666726\n",
              "8322 2018-05-02    76.374441\n",
              "8323 2018-05-03    71.148348\n",
              "8324 2018-05-04    64.710120\n",
              "8325 2018-05-05    73.972085\n",
              "\n",
              "[8326 rows x 2 columns]"
            ]
          },
          "metadata": {
            "tags": []
          },
          "execution_count": 4
        }
      ]
    },
    {
      "cell_type": "markdown",
      "metadata": {
        "id": "FZS4GmopGoty",
        "colab_type": "text"
      },
      "source": [
        "## Ajuste por inflación\n",
        "\n",
        "Debido a que los precios están dados a la escala del tiempo que fueron tomados, para remover la tendencia creciente en la serie de tiempo hemos de ajustar el precio por la inflación, nos basaremos en el IPC (índice de precios del consumidor) obtenido en la página del [Dane](https://systema39.dane.gov.co/cipc/inicio.do), para hacer la estimación del cambio del valor adquisitivo. **Se quiere traer los valores a un equivalente del último registro 2018-05-05**, con lo que se define un escalador de inflación `Infl_escalador`:\n",
        "\n",
        "$$Infl\\_escalador_i = \\frac{IPC_{2018-05}}{IPC_{i}} = \\frac{99.16}{IPC_i}$$\n",
        "\n",
        "De manera que el precio traído a valor actual sería:\n",
        "\n",
        "$$Precio\\_actual_i = Precio\\_prom_i * Infl\\_actual_i$$\n"
      ]
    },
    {
      "cell_type": "code",
      "metadata": {
        "id": "MJdVPUEr_DbB",
        "colab_type": "code",
        "outputId": "6ba08351-a3da-4d67-e15f-8ff41ec8e616",
        "colab": {
          "base_uri": "https://localhost:8080/",
          "height": 505
        }
      },
      "source": [
        "# Reading ipc values\n",
        "ipc = pd.read_excel(io= \"https://github.com/ANN-2019-2/evaluacion-jfmra99/raw/master/01-precios-SOLUCI%C3%93N/IPC_mensual_DANE.xlsx\",\n",
        "                    usecols = \"A:B\",\n",
        "                    skiprows = 12, #df start in row 13\n",
        "                    dtype = {\"Año(aaaa)-Mes(mm)\": str}) #tried to read as date but failed\n",
        "\n",
        "ipc['Infl_escalador'] = 99.16/ipc['Índice'].values #calculation of the escalator\n",
        "\n",
        "#Create an equivalent to \"Año(aaaa)-Mes(mm)\" so we can make a join between the two dataframes\n",
        "ts_df['fecha_str'] = ((pd.DatetimeIndex(ts_df['Fecha']).year).astype(str) + \n",
        "                 (pd.DatetimeIndex(ts_df['Fecha']).month.map(\"{:02}\".format)).astype(str)) \n",
        "ipc.dropna()[['Año(aaaa)-Mes(mm)', 'Infl_escalador']]\n",
        "\n",
        "## Left join between the dfs:\n",
        "final_df = pd.merge(ts_df, ipc,  \n",
        "                    how='left', \n",
        "                    left_on=['fecha_str'], right_on = ['Año(aaaa)-Mes(mm)'])\n",
        "\n",
        "## Compute of the actual price = old_price * excalator\n",
        "final_df['Precio_actual'] = final_df['Precio_prom'].values * final_df['Infl_escalador'].values\n",
        "## Columns that matter to us\n",
        "final_df = final_df[['Fecha', 'Precio_prom', 'Infl_escalador', 'Precio_actual']]\n",
        "final_df"
      ],
      "execution_count": 6,
      "outputs": [
        {
          "output_type": "stream",
          "text": [
            "/usr/local/lib/python3.6/dist-packages/ipykernel_launcher.py:10: SettingWithCopyWarning: \n",
            "A value is trying to be set on a copy of a slice from a DataFrame.\n",
            "Try using .loc[row_indexer,col_indexer] = value instead\n",
            "\n",
            "See the caveats in the documentation: https://pandas.pydata.org/pandas-docs/stable/user_guide/indexing.html#returning-a-view-versus-a-copy\n",
            "  # Remove the CWD from sys.path while we load stuff.\n"
          ],
          "name": "stderr"
        },
        {
          "output_type": "execute_result",
          "data": {
            "text/html": [
              "<div>\n",
              "<style scoped>\n",
              "    .dataframe tbody tr th:only-of-type {\n",
              "        vertical-align: middle;\n",
              "    }\n",
              "\n",
              "    .dataframe tbody tr th {\n",
              "        vertical-align: top;\n",
              "    }\n",
              "\n",
              "    .dataframe thead th {\n",
              "        text-align: right;\n",
              "    }\n",
              "</style>\n",
              "<table border=\"1\" class=\"dataframe\">\n",
              "  <thead>\n",
              "    <tr style=\"text-align: right;\">\n",
              "      <th></th>\n",
              "      <th>Fecha</th>\n",
              "      <th>Precio_prom</th>\n",
              "      <th>Infl_escalador</th>\n",
              "      <th>Precio_actual</th>\n",
              "    </tr>\n",
              "  </thead>\n",
              "  <tbody>\n",
              "    <tr>\n",
              "      <th>0</th>\n",
              "      <td>1995-07-20</td>\n",
              "      <td>1.409435</td>\n",
              "      <td>4.737697</td>\n",
              "      <td>6.677475</td>\n",
              "    </tr>\n",
              "    <tr>\n",
              "      <th>1</th>\n",
              "      <td>1995-07-21</td>\n",
              "      <td>4.924333</td>\n",
              "      <td>4.737697</td>\n",
              "      <td>23.330000</td>\n",
              "    </tr>\n",
              "    <tr>\n",
              "      <th>2</th>\n",
              "      <td>1995-07-22</td>\n",
              "      <td>1.269500</td>\n",
              "      <td>4.737697</td>\n",
              "      <td>6.014506</td>\n",
              "    </tr>\n",
              "    <tr>\n",
              "      <th>3</th>\n",
              "      <td>1995-07-23</td>\n",
              "      <td>0.953083</td>\n",
              "      <td>4.737697</td>\n",
              "      <td>4.515420</td>\n",
              "    </tr>\n",
              "    <tr>\n",
              "      <th>4</th>\n",
              "      <td>1995-07-24</td>\n",
              "      <td>4.305917</td>\n",
              "      <td>4.737697</td>\n",
              "      <td>20.400129</td>\n",
              "    </tr>\n",
              "    <tr>\n",
              "      <th>...</th>\n",
              "      <td>...</td>\n",
              "      <td>...</td>\n",
              "      <td>...</td>\n",
              "      <td>...</td>\n",
              "    </tr>\n",
              "    <tr>\n",
              "      <th>8321</th>\n",
              "      <td>2018-05-01</td>\n",
              "      <td>71.666726</td>\n",
              "      <td>1.000000</td>\n",
              "      <td>71.666726</td>\n",
              "    </tr>\n",
              "    <tr>\n",
              "      <th>8322</th>\n",
              "      <td>2018-05-02</td>\n",
              "      <td>76.374441</td>\n",
              "      <td>1.000000</td>\n",
              "      <td>76.374441</td>\n",
              "    </tr>\n",
              "    <tr>\n",
              "      <th>8323</th>\n",
              "      <td>2018-05-03</td>\n",
              "      <td>71.148348</td>\n",
              "      <td>1.000000</td>\n",
              "      <td>71.148348</td>\n",
              "    </tr>\n",
              "    <tr>\n",
              "      <th>8324</th>\n",
              "      <td>2018-05-04</td>\n",
              "      <td>64.710120</td>\n",
              "      <td>1.000000</td>\n",
              "      <td>64.710120</td>\n",
              "    </tr>\n",
              "    <tr>\n",
              "      <th>8325</th>\n",
              "      <td>2018-05-05</td>\n",
              "      <td>73.972085</td>\n",
              "      <td>1.000000</td>\n",
              "      <td>73.972085</td>\n",
              "    </tr>\n",
              "  </tbody>\n",
              "</table>\n",
              "<p>8326 rows × 4 columns</p>\n",
              "</div>"
            ],
            "text/plain": [
              "          Fecha  Precio_prom  Infl_escalador  Precio_actual\n",
              "0    1995-07-20     1.409435        4.737697       6.677475\n",
              "1    1995-07-21     4.924333        4.737697      23.330000\n",
              "2    1995-07-22     1.269500        4.737697       6.014506\n",
              "3    1995-07-23     0.953083        4.737697       4.515420\n",
              "4    1995-07-24     4.305917        4.737697      20.400129\n",
              "...         ...          ...             ...            ...\n",
              "8321 2018-05-01    71.666726        1.000000      71.666726\n",
              "8322 2018-05-02    76.374441        1.000000      76.374441\n",
              "8323 2018-05-03    71.148348        1.000000      71.148348\n",
              "8324 2018-05-04    64.710120        1.000000      64.710120\n",
              "8325 2018-05-05    73.972085        1.000000      73.972085\n",
              "\n",
              "[8326 rows x 4 columns]"
            ]
          },
          "metadata": {
            "tags": []
          },
          "execution_count": 6
        }
      ]
    },
    {
      "cell_type": "markdown",
      "metadata": {
        "id": "X6N3SnP2-KpN",
        "colab_type": "text"
      },
      "source": [
        "Un gráfico de nuestra serie de precios actuales en función del tiempo será:"
      ]
    },
    {
      "cell_type": "code",
      "metadata": {
        "id": "0gEmLp1d2aXX",
        "colab_type": "code",
        "outputId": "56d92fb5-62c6-455d-ad53-a2d70690e500",
        "colab": {
          "base_uri": "https://localhost:8080/",
          "height": 281
        }
      },
      "source": [
        "final_df['Precio_actual'].plot()"
      ],
      "execution_count": 7,
      "outputs": [
        {
          "output_type": "execute_result",
          "data": {
            "text/plain": [
              "<matplotlib.axes._subplots.AxesSubplot at 0x7f74ee6549b0>"
            ]
          },
          "metadata": {
            "tags": []
          },
          "execution_count": 7
        },
        {
          "output_type": "display_data",
          "data": {
            "image/png": "[encoded data removed]",
            "text/plain": [
              "<Figure size 432x288 with 1 Axes>"
            ]
          },
          "metadata": {
            "tags": []
          }
        }
      ]
    },
    {
      "cell_type": "markdown",
      "metadata": {
        "id": "NC-zSwKv_dnF",
        "colab_type": "text"
      },
      "source": [
        "## Funciones de estabilización de varianza:\n",
        "Se proponen las siguiente funciones para estabilizar la varianza:\n",
        "\n",
        "- $p(y) = y$ (Función identidad para considerar en el ajuste del modelo).\n",
        "- $q(y) = \\ln(y)$ \n",
        "- $r(y)=\\log_{10}(y)$ \n",
        "- $s(y) = \\sqrt y$\n",
        "- $t(y) = y^{-1}$\n",
        "- $u(y) = \\sqrt[4]{y}$\n",
        "\n",
        "Definimos las funciones para obtener los valores de la transformación y la función inversa para obtener los valores reales (equivalentes a $Precio\\_prom$):"
      ]
    },
    {
      "cell_type": "code",
      "metadata": {
        "id": "ivO9wV2ZoKST",
        "colab_type": "code",
        "colab": {}
      },
      "source": [
        "## Transform time series to get \n",
        "def get_prec_actual(y = final_df[['Precio_actual']], fun = 'p'):\n",
        "  if(fun == 'q'):\n",
        "    return np.log(y)\n",
        "  \n",
        "  elif(fun == 'r'):\n",
        "    return np.log10(y)\n",
        "\n",
        "  elif(fun == 's'):\n",
        "    return np.sqrt(y+0.000000000000001)\n",
        "  \n",
        "  elif(fun == 't'):\n",
        "    return np.power(y, -1)\n",
        "\n",
        "  elif(fun == 'u'):\n",
        "    return np.power(y, 1/4)\n",
        "  \n",
        "  else:\n",
        "    return y\n",
        "\n",
        "## Get original values of the time series\n",
        "def get_prec_original(y, escale = final_df[['Infl_escalador']],fun = 'p', doescale=False):\n",
        "  if not(doescale):\n",
        "    escale=1\n",
        "  if(fun == 'q'):\n",
        "    return np.exp(y)* (1/escale)\n",
        "  \n",
        "  elif(fun == 'r'):\n",
        "    return np.power(10, y) * (1/escale)\n",
        "\n",
        "  elif(fun == 's'):\n",
        "    return np.power(y, 2) * (1/escale)\n",
        "  \n",
        "  elif(fun == 't'):\n",
        "    return np.power(y, -1) * (1/escale)\n",
        "\n",
        "  elif(fun == 'u'):\n",
        "    return np.power(y, 4) * (1/escale)\n",
        "  \n",
        "  else:\n",
        "    return y * (1/escale)\n"
      ],
      "execution_count": 0,
      "outputs": []
    },
    {
      "cell_type": "code",
      "metadata": {
        "id": "2mx90-87wAWm",
        "colab_type": "code",
        "outputId": "e9b48cb8-dbae-4ff3-9705-c7f6c933559c",
        "colab": {
          "base_uri": "https://localhost:8080/",
          "height": 543
        }
      },
      "source": [
        "fig=plt.figure(figsize=(20, 8), dpi= 80, facecolor='w', edgecolor='k')\n",
        "func = ['p','q', 'r', 's', 't', 'u'] ## list of functions\n",
        "palette = plt.get_cmap('Set1')\n",
        "\n",
        "for i in range(1, 7):\n",
        "\n",
        "    # Find the right spot on the plot\n",
        "    plt.subplot(2,3, i)\n",
        " \n",
        "    # Plot the lineplot\n",
        "    plt.plot(final_df['Fecha'].index.values, get_prec_actual(fun = func[i-1]), marker='', color=palette(i-1), linewidth=1.9, alpha=0.9)\n",
        " \n",
        "    # Same limits for everybody!\n",
        "    #plt.xlim(0,200)\n",
        "    #plt.ylim(0,50)\n",
        " \n",
        " \n",
        "    # Add title\n",
        "    plt.title(func[i-1], loc='left', fontsize=12, fontweight=0, color=palette(i-1) )\n",
        "\n"
      ],
      "execution_count": 9,
      "outputs": [
        {
          "output_type": "display_data",
          "data": {
            "image/png": "[encoded data removed]",
            "text/plain": [
              "<Figure size 1600x640 with 6 Axes>"
            ]
          },
          "metadata": {
            "tags": []
          }
        }
      ]
    },
    {
      "cell_type": "markdown",
      "metadata": {
        "id": "Sc6esTVmxl7W",
        "colab_type": "text"
      },
      "source": [
        "En general, se considera que las que logran estabilizar mejor la varianza de la serie son las dos transformaciones logarítmicas. Se puede ver que muchas de las transformaciones siguen teniendo valores muy grandes en el eje y. Por lo que se utilizará una función de escalado que lleve a cada transformación al rango de (0,1).\n",
        "\n",
        "## Función de escalado"
      ]
    },
    {
      "cell_type": "code",
      "metadata": {
        "id": "2YrO21BwzM6r",
        "colab_type": "code",
        "colab": {}
      },
      "source": [
        "# Diccionario donde se guardan minimos y maximos del escalado para cada una de las funciones\n",
        "min_max = {}\n",
        "\n",
        "# Añadimos minimos y maximos al diccionario\n",
        "for f in func:\n",
        "  transf = get_prec_actual(fun = f)\n",
        "  min_max[f] = [np.min(transf), np.max(transf)]\n",
        "\n",
        "#Funcion de escalado\n",
        "def scale(y, fun):\n",
        "  min = (min_max[fun])[0]\n",
        "  max = (min_max[fun])[1]\n",
        "\n",
        "  return((y-min)/(max-min))\n",
        "\n",
        "#Funcion de desescalado\n",
        "def unscale(y, fun):\n",
        "  min = (min_max[fun])[0].values\n",
        "  max = (min_max[fun])[1].values\n",
        "\n",
        "  return((y)*(max-min)+min)\n"
      ],
      "execution_count": 0,
      "outputs": []
    },
    {
      "cell_type": "markdown",
      "metadata": {
        "id": "saRnVWo8zwD6",
        "colab_type": "text"
      },
      "source": [
        "## Ajuste del modelo"
      ]
    },
    {
      "cell_type": "markdown",
      "metadata": {
        "id": "fN_W-dTzyklD",
        "colab_type": "text"
      },
      "source": [
        "A continuación, se define nuestro Adaline para el ajuste:\n",
        "\n",
        "```\n",
        "# Tiene formato de código\n",
        "```\n",
        "\n"
      ]
    },
    {
      "cell_type": "code",
      "metadata": {
        "id": "wFC7833S-kHi",
        "colab_type": "code",
        "colab": {}
      },
      "source": [
        "class Adaline:\n",
        "    def __init__(self,\n",
        "                 learning_rate=0.001, # tasa de aprendizaje\n",
        "                 momentum=0.001,      # momentum \n",
        "                 R=7,  # número de retardos a usar\n",
        "                 ):   #\n",
        "\n",
        "        self.learning_rate = learning_rate\n",
        "        self.momentum = momentum\n",
        "        self.R = R\n",
        "        self.coef_ = np.zeros(R)\n",
        "        self.intercept_ = np.zeros(1)\n",
        "        self.X = []\n",
        "\n",
        "    def predict(self):\n",
        "      if len(self.X) <self.R:\n",
        "        return None\n",
        "      X = np.array(self.X)\n",
        "      \n",
        "      u = np.dot(X, self.coef_) + self.intercept_\n",
        "      return(u)\n",
        "\n",
        "    def fit(self, y):\n",
        "\n",
        "        y_adj = self.predict()\n",
        "\n",
        "        if y_adj is not None:\n",
        "          e = y - y_adj\n",
        "          #Nuevo calculo de los coeficientes del modelo:\n",
        "          self.coef_ += 2*self.learning_rate * e *np.array(self.X) +self.coef_*self.momentum\n",
        "\n",
        "          self.intercept_ += 2 * self.learning_rate * e + self.intercept_*self.momentum\n",
        "\n",
        "        self.X.append(y)\n",
        "\n",
        "        if len(self.X) > self.R:\n",
        "            self.X.pop(0)\n"
      ],
      "execution_count": 0,
      "outputs": []
    },
    {
      "cell_type": "markdown",
      "metadata": {
        "id": "GaWLiYnpLkTU",
        "colab_type": "text"
      },
      "source": [
        "## Elección de parámetros de ajuste y transformación"
      ]
    },
    {
      "cell_type": "markdown",
      "metadata": {
        "id": "rwj3GlC7Kfqv",
        "colab_type": "text"
      },
      "source": [
        "A continuación, se construyen regillas para los parámetros del modelo:\n",
        "- Transformación: la transformación utilizada en el precio de la bolsa de energía.\n",
        "- Rezagos: el número de observaciones que tiene en cuenta el Adaline a la hora de actualizar los pesos. Dado que se asume una periodicidad semanal se utilizaron (7,14,21) días de rezagos.\n",
        "- Tasa de aprendizaje: se probaron [0.0005, 0.0055, 0.0105, 0.0155, 0.0205, 0.0255, 0.0305, 0.0355, 0.0405, 0.0455, 0.0505, 0.0555, 0.0605, 0.0655, 0.0705, 0.0755, 0.0805, 0.0855, 0.0905, 0.0955].\n",
        "- Momentum: al probar con diferentes valores de momentum, se encontró que con valores mayores a 0.001 hacía que el ADALINE se alejará drásticamente de la serie real, por lo que se probaron valores muy pequeños [0, 0.0002, 0.0004, 0.0006, 0.0008, 0.001 ]."
      ]
    },
    {
      "cell_type": "code",
      "metadata": {
        "id": "u84xGA1eCNnU",
        "colab_type": "code",
        "colab": {}
      },
      "source": [
        "Res_tranf = pd.DataFrame(columns= [\"Transformación\", \"MSE\",\n",
        "                                   \"Tasa_de_aprendizaje\", \"Momentum\", \"N_retardos\",\n",
        "                                   \"Modelo\", \"Pronos\"\n",
        "                                   ]) ## Arreglo de resultados\n",
        "Rezagos = np.arange(7, 22, 7) #se prueban retardos de cada semana\n",
        "tasas_aprendizaje = np.arange(0.0005,0.1, 0.005)\n",
        "momentum = np.arange(0, 0.0011, 0.0002)\n",
        "\n",
        "for fun in func: ## Para cada una de las funciones\n",
        "  #res_temp = pd.DataFrame([\"MSE entrenamiento\", \"MSE pronostico\", \n",
        "   #                        \"Tasa_de_aprendizaje\", \"Momentum\", \n",
        "    #                       \"N_retargos\"]) # Resultados para cada combinación de valores\n",
        "  d = scale(get_prec_actual(fun = fun), fun = fun)\n",
        "  d = d.iloc[:,0].values\n",
        "  for rate in tasas_aprendizaje:\n",
        "    for momen in momentum:\n",
        "      \n",
        "      for R in Rezagos:\n",
        "        \n",
        "        Ada = Adaline(learning_rate=rate,\n",
        "                      momentum=momen,\n",
        "                      R=R ## número de rezados \n",
        "                      )\n",
        "        forecasts0 = []\n",
        "\n",
        "        for z in d:\n",
        "          forecasts0.append(Ada.predict())\n",
        "          Ada.fit(z)\n",
        "        \n",
        "        forecasts0 = unscale(np.array(forecasts0[(R+1):]), fun = fun)\n",
        "        forecasts0 = get_prec_original(forecasts0, fun = fun)\n",
        "\n",
        "        #d_temp = unscale(d[(R+1):], fun = fun)\n",
        "        \n",
        "        #d_temp = get_prec_original(d_temp, fun = fun)\n",
        "        \n",
        "        d_temp = get_prec_actual(fun = \"p\").loc[R+1:,]\n",
        "        \n",
        "        \n",
        "        #d_temp = d[(R+1):]\n",
        "        #forecasts0 = forecasts0[(R+1):]\n",
        "        \n",
        "        \n",
        "        #d = get_prec_original(pd.DataFrame(d[(R+1):]), \n",
        "        #                               escale=final_df.loc[(R+1):,['Infl_escalador']], \n",
        "        #                               fun = fun)\n",
        "        \n",
        "        ## Luego tienes que extraer los valores de error de entrenamiento y pronostico del Adaline\n",
        "        Res_tranf = Res_tranf.append({\n",
        "            \"Transformación\": fun,\n",
        "            \"MSE\": np.mean(np.power(np.array(forecasts0) - np.array(d_temp), 2)),\n",
        "            \"Tasa_de_aprendizaje\": rate,\n",
        "            \"Momentum\": momen,\n",
        "            \"N_retardos\": R,\n",
        "            \"Pronos\": forecasts0,\n",
        "            \"Modelo\": Ada\n",
        "        }, ignore_index=True)\n",
        "\n",
        "\n",
        "\n",
        "\n"
      ],
      "execution_count": 0,
      "outputs": []
    },
    {
      "cell_type": "markdown",
      "metadata": {
        "id": "lWMLVDvcEM1K",
        "colab_type": "text"
      },
      "source": [
        "A continuación, se presentan los 10 mejores modelos según su error de pronóstico:\n"
      ]
    },
    {
      "cell_type": "code",
      "metadata": {
        "id": "t-uIUaiqaa5q",
        "colab_type": "code",
        "colab": {
          "base_uri": "https://localhost:8080/",
          "height": 345
        },
        "outputId": "0ebbf273-54c8-473e-a3af-6017d8d30973"
      },
      "source": [
        "pd.set_option('max_rows', 99999) # To display more rows\n",
        "best_models = Res_tranf.sort_values(by=['MSE']).head(10)\n",
        "best_models.loc[:,Res_tranf.columns.difference([\"Modelo\" ,\"Pronos\"])]\n",
        "#order(Res_tranf['MSE'])"
      ],
      "execution_count": 60,
      "outputs": [
        {
          "output_type": "execute_result",
          "data": {
            "text/html": [
              "<div>\n",
              "<style scoped>\n",
              "    .dataframe tbody tr th:only-of-type {\n",
              "        vertical-align: middle;\n",
              "    }\n",
              "\n",
              "    .dataframe tbody tr th {\n",
              "        vertical-align: top;\n",
              "    }\n",
              "\n",
              "    .dataframe thead th {\n",
              "        text-align: right;\n",
              "    }\n",
              "</style>\n",
              "<table border=\"1\" class=\"dataframe\">\n",
              "  <thead>\n",
              "    <tr style=\"text-align: right;\">\n",
              "      <th></th>\n",
              "      <th>MSE</th>\n",
              "      <th>Momentum</th>\n",
              "      <th>N_retardos</th>\n",
              "      <th>Tasa_de_aprendizaje</th>\n",
              "      <th>Transformación</th>\n",
              "    </tr>\n",
              "  </thead>\n",
              "  <tbody>\n",
              "    <tr>\n",
              "      <th>171</th>\n",
              "      <td>796.788475</td>\n",
              "      <td>0.0</td>\n",
              "      <td>7</td>\n",
              "      <td>0.0855</td>\n",
              "      <td>r</td>\n",
              "    </tr>\n",
              "    <tr>\n",
              "      <th>111</th>\n",
              "      <td>796.788475</td>\n",
              "      <td>0.0</td>\n",
              "      <td>7</td>\n",
              "      <td>0.0855</td>\n",
              "      <td>q</td>\n",
              "    </tr>\n",
              "    <tr>\n",
              "      <th>174</th>\n",
              "      <td>797.315952</td>\n",
              "      <td>0.0</td>\n",
              "      <td>7</td>\n",
              "      <td>0.0905</td>\n",
              "      <td>r</td>\n",
              "    </tr>\n",
              "    <tr>\n",
              "      <th>114</th>\n",
              "      <td>797.315952</td>\n",
              "      <td>0.0</td>\n",
              "      <td>7</td>\n",
              "      <td>0.0905</td>\n",
              "      <td>q</td>\n",
              "    </tr>\n",
              "    <tr>\n",
              "      <th>108</th>\n",
              "      <td>799.663962</td>\n",
              "      <td>0.0</td>\n",
              "      <td>7</td>\n",
              "      <td>0.0805</td>\n",
              "      <td>q</td>\n",
              "    </tr>\n",
              "    <tr>\n",
              "      <th>168</th>\n",
              "      <td>799.663962</td>\n",
              "      <td>0.0</td>\n",
              "      <td>7</td>\n",
              "      <td>0.0805</td>\n",
              "      <td>r</td>\n",
              "    </tr>\n",
              "    <tr>\n",
              "      <th>177</th>\n",
              "      <td>801.535365</td>\n",
              "      <td>0.0</td>\n",
              "      <td>7</td>\n",
              "      <td>0.0955</td>\n",
              "      <td>r</td>\n",
              "    </tr>\n",
              "    <tr>\n",
              "      <th>117</th>\n",
              "      <td>801.535365</td>\n",
              "      <td>0.0</td>\n",
              "      <td>7</td>\n",
              "      <td>0.0955</td>\n",
              "      <td>q</td>\n",
              "    </tr>\n",
              "    <tr>\n",
              "      <th>105</th>\n",
              "      <td>805.699305</td>\n",
              "      <td>0.0</td>\n",
              "      <td>7</td>\n",
              "      <td>0.0755</td>\n",
              "      <td>q</td>\n",
              "    </tr>\n",
              "    <tr>\n",
              "      <th>165</th>\n",
              "      <td>805.699305</td>\n",
              "      <td>0.0</td>\n",
              "      <td>7</td>\n",
              "      <td>0.0755</td>\n",
              "      <td>r</td>\n",
              "    </tr>\n",
              "  </tbody>\n",
              "</table>\n",
              "</div>"
            ],
            "text/plain": [
              "            MSE  Momentum N_retardos  Tasa_de_aprendizaje Transformación\n",
              "171  796.788475       0.0          7               0.0855              r\n",
              "111  796.788475       0.0          7               0.0855              q\n",
              "174  797.315952       0.0          7               0.0905              r\n",
              "114  797.315952       0.0          7               0.0905              q\n",
              "108  799.663962       0.0          7               0.0805              q\n",
              "168  799.663962       0.0          7               0.0805              r\n",
              "177  801.535365       0.0          7               0.0955              r\n",
              "117  801.535365       0.0          7               0.0955              q\n",
              "105  805.699305       0.0          7               0.0755              q\n",
              "165  805.699305       0.0          7               0.0755              r"
            ]
          },
          "metadata": {
            "tags": []
          },
          "execution_count": 60
        }
      ]
    },
    {
      "cell_type": "markdown",
      "metadata": {
        "id": "LJpqSPqVFNcw",
        "colab_type": "text"
      },
      "source": [
        "El mejor modelo ajustado fue el 171, utilizó la transformación $r = \\log_{10}{(y)}$, un Momentum de $0$, una tasa de aprendizaje de $0.0855$ y $7$ rezagos. Se puede ver que el segundo y tercer mejor modelo tan solo varían en la tasa de aprendizaje (manteniendo valores relativamente altos) y la transformación de la variable respuesta.\n",
        "\n",
        "Se destaca que los 10 mejores modelos usaron las transformaciones q y r, que corresponde a $log_{10}$ y al $ln$, estas fueron las que mejor lograron estabilizar la varianza.\n",
        "\n",
        "El gráfico de los valores ajustados de la serie dentro del conjunto de entrenamiento se presentan a continuación:"
      ]
    },
    {
      "cell_type": "code",
      "metadata": {
        "id": "5dWJrIs5aySv",
        "colab_type": "code",
        "colab": {
          "base_uri": "https://localhost:8080/",
          "height": 244
        },
        "outputId": "6f22855b-5b7d-4835-8f9a-501f5273ff7b"
      },
      "source": [
        "best_model = best_models.loc[171,]\n",
        "final_model = (best_model['Modelo'])\n",
        "pronos = (best_model['Pronos'])\n",
        "print(len(pronos))\n",
        "print(len(get_prec_actual(fun = \"p\")))\n",
        "\n",
        "\n",
        "\n",
        "Ada = Adaline(learning_rate=0.005,\n",
        "                      momentum=0,\n",
        "                      R=7 ## número de rezados \n",
        "                      )\n",
        "\n",
        "\n",
        "plt.figure(figsize=(14,3))\n",
        "plt.plot(get_prec_actual(fun = \"p\"), color='black');\n",
        "plt.plot(pronos, color = 'red');\n",
        "\n",
        "#np.mean(np.power(np.array((forecasts0[10:]))- np.array(d[10:]),2))\n",
        "\n",
        "#np.power(np.max(np.array((forecasts0[100:]))- np.array(d[100:])),2)"
      ],
      "execution_count": 63,
      "outputs": [
        {
          "output_type": "stream",
          "text": [
            "8318\n",
            "8326\n"
          ],
          "name": "stdout"
        },
        {
          "output_type": "display_data",
          "data": {
            "image/png": "[encoded data removed]",
            "text/plain": [
              "<Figure size 1008x216 with 1 Axes>"
            ]
          },
          "metadata": {
            "tags": []
          }
        }
      ]
    },
    {
      "cell_type": "markdown",
      "metadata": {
        "id": "aqEGW5jYa3y_",
        "colab_type": "text"
      },
      "source": [
        "## Conclusiones\n",
        "\n",
        "- Los adalines son una herramienta muy útil para hacer predicciones a corto plazo, ya que permite corregir rápidamente las desviaciones de los datos.\n",
        "- Las mejores transformaciones fueron las logarítmicas, que son las usualmente usadas para estabilizar varianza.\n",
        "- El escalado de la variable respuesta mejora el ajuste del modelo significativamente.\n",
        "- El número de retardos óptimo probo ser 7, utilizar más retardos tiende a empeorar las predicciones del modelo."
      ]
    },
    {
      "cell_type": "markdown",
      "metadata": {
        "id": "ARVShKTQsXVi",
        "colab_type": "text"
      },
      "source": [
        ""
      ]
    }
  ]
}